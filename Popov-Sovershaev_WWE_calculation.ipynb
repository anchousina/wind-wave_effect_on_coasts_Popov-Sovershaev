{
 "cells": [
  {
   "cell_type": "code",
   "execution_count": null,
   "id": "12b7c15f",
   "metadata": {},
   "outputs": [],
   "source": [
    "import pandas as pd\n",
    "import geopandas as gpd\n",
    "import os"
   ]
  },
  {
   "cell_type": "code",
   "execution_count": null,
   "id": "a7682880",
   "metadata": {},
   "outputs": [],
   "source": [
    "# Open the data on the wave fetchs\n",
    "\n",
    "fetch_length = gpd.read_file('SHP/Fetch_length.shp').drop(columns=['Distance', 'OBJECTID', 'X', 'Y', 'geometry'])    # Open the fetch length dataset\n",
    "\n",
    "fetch_length['Bearing'] = fetch_length['Bearing'].replace({180: 'S', 135: 'SE', 157.5: 'SSE', 202.5: 'SSW', 225: 'SW'})   # Rename wind directions from degrees to rhumbs\n",
    "\n",
    "fetch_length['Shape_Leng'] = fetch_length['Shape_Leng']/1000    # Convert distances from meters to kilometers"
   ]
  },
  {
   "cell_type": "code",
   "execution_count": null,
   "id": "eea98f5c",
   "metadata": {},
   "outputs": [],
   "source": [
    "# Calculate the wind wave effect for one transect for one year\n",
    "\n",
    "def wwe_year_mi(TransectID, meteo_df):\n",
    "    \n",
    "    fetch_length1 = fetch_length[(fetch_length['TransectID'] == TransectID)]\n",
    "    \n",
    "    grad_cols = ['WSW', 'SW', 'SSW', 'S','SSE', 'SE']    # Create a list with the wind rhumbs\n",
    "    grad_index = ['5-10', '10-15', '15-20', '20-25', '25-30', '30-35', '35-40', '40-45', '45-50', '>50']    # Create a list with the wind gradations\n",
    "    Gradations = pd.DataFrame(columns = grad_cols, index = grad_index)    # Construct a dataframe to calculate a frequency of winds of different gradations of different rhumbs\n",
    "    Av_wind_speed = Gradations.copy()    # Construct a dataframe to calculate an average speed of winds of different gradations of different rhumbs\n",
    "   \n",
    "    # Iterate the rhumbs and the gradations and calculate the frequency and the average speed for them\n",
    "    for rhumb in grad_cols:\n",
    "        for speed in grad_index[:-1]:\n",
    "            lb = int(speed.split('-')[0])\n",
    "            rb = int(speed.split('-')[1])\n",
    "            Gradations[rhumb][speed] = meteo_df['wind_speed'][(meteo_df['wind_dir']==rhumb) & (meteo_df['wind_speed'] > lb) & (meteo_df['wind_speed'] <= rb)].count()\n",
    "            Av_wind_speed[rhumb][speed] = meteo_df['wind_speed'][(meteo_df['wind_dir']==rhumb) & (meteo_df['wind_speed'] > lb) & (meteo_df['wind_speed'] <= rb)].mean()\n",
    "\n",
    "        Gradations[rhumb]['>50'] = meteo_df['wind_speed'][(meteo_df['wind_dir']==rhumb) & (meteo_df['wind_speed']>50)].count()\n",
    "        Av_wind_speed[rhumb]['>50'] = meteo_df['wind_speed'][(meteo_df['wind_dir']==rhumb) & (meteo_df['wind_speed']>50)].mean()\n",
    " \n",
    "    v3 = (Av_wind_speed.fillna(0))**3    # Raise to the 3rd power the wind speed for not null values\n",
    "   \n",
    "    wwe = Gradations.copy()    # Create a dataframe for wind-wave effect values\n",
    "    \n",
    "    # Iterate the rhumbs and calculate the wind-wave effect for them\n",
    "    for i, rhumb in wwe.items():\n",
    "        if rhumb.name in fetch_length1['Bearing'].unique():\n",
    "            for j in range(0, len(rhumb)):\n",
    "                wwe[rhumb.name][rhumb.index[j]] = 0.000003 * fetch_length1[(fetch_length1['Bearing'] == rhumb.name)]['Shape_Leng'].iloc[0] * v3[rhumb.name][rhumb.index[j]] * Gradations[rhumb.name][rhumb.index[j]] * 600\n",
    "        else:\n",
    "            wwe[rhumb.name] = 0        \n",
    "    \n",
    "    return wwe.values.sum()"
   ]
  },
  {
   "cell_type": "code",
   "execution_count": null,
   "id": "47342d53",
   "metadata": {},
   "outputs": [],
   "source": [
    "# Open the files with weather station data for different years\n",
    "\n",
    "folder = 'CSV/years'\n",
    "filelist = os.listdir(folder)"
   ]
  },
  {
   "cell_type": "code",
   "execution_count": null,
   "id": "4ca39bee",
   "metadata": {},
   "outputs": [],
   "source": [
    "# Create a dataframe for any year dataset\n",
    "\n",
    "def df_making(file, folder):\n",
    "    meteo_df = pd.read_csv(os.path.join(folder, file))\n",
    "    meteo_df = meteo_df.drop(meteo_df[meteo_df['wind_speed'] == '---'].index)\n",
    "    meteo_df['wind_speed'] = meteo_df['wind_speed'].astype(float)\n",
    "    return meteo_df"
   ]
  },
  {
   "cell_type": "code",
   "execution_count": null,
   "id": "1b3019f4",
   "metadata": {},
   "outputs": [],
   "source": [
    "# Construct a dataframe for all the years\n",
    "\n",
    "wwe_all = pd.DataFrame(index = fetch_length['TransectID'].unique(), columns=[filelist])"
   ]
  },
  {
   "cell_type": "code",
   "execution_count": null,
   "id": "3389ee46",
   "metadata": {
    "scrolled": true
   },
   "outputs": [],
   "source": [
    "# Iterate files with different years, calculate a WWE for every transect every year and fill in the resulted dataframe\n",
    "\n",
    "for file in filelist:\n",
    "    meteo_df = df_making(file, folder)\n",
    "    wwe_year = pd.DataFrame(index = fetch_length['TransectID'].unique(), columns=[file])\n",
    "    for TransectID in fetch_length['TransectID'].unique():\n",
    "        transect_wwe = wwe_year_mi(TransectID, meteo_df)\n",
    "        wwe_year[file][TransectID] = transect_wwe\n",
    "    wwe_all[file] = wwe_year[file]  "
   ]
  },
  {
   "cell_type": "code",
   "execution_count": null,
   "id": "c9578209",
   "metadata": {},
   "outputs": [],
   "source": [
    "# Export the resulted dataframe to csv\n",
    "\n",
    "wwe_all.to_csv('CSV/wwe_all_year_transects.csv')"
   ]
  }
 ],
 "metadata": {
  "kernelspec": {
   "display_name": "Python 3 (ipykernel)",
   "language": "python",
   "name": "python3"
  },
  "language_info": {
   "codemirror_mode": {
    "name": "ipython",
    "version": 3
   },
   "file_extension": ".py",
   "mimetype": "text/x-python",
   "name": "python",
   "nbconvert_exporter": "python",
   "pygments_lexer": "ipython3",
   "version": "3.10.9"
  }
 },
 "nbformat": 4,
 "nbformat_minor": 5
}
